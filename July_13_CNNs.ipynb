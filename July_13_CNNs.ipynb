{
  "nbformat": 4,
  "nbformat_minor": 0,
  "metadata": {
    "colab": {
      "name": "July 13 CNNs.ipynb",
      "provenance": [],
      "toc_visible": true,
      "include_colab_link": true
    },
    "kernelspec": {
      "name": "python3",
      "display_name": "Python 3"
    },
    "language_info": {
      "name": "python"
    }
  },
  "cells": [
    {
      "cell_type": "markdown",
      "metadata": {
        "id": "view-in-github",
        "colab_type": "text"
      },
      "source": [
        "<a href=\"https://colab.research.google.com/github/shekharsg/Analysis-and-prediction-of-water-quality-and-water-quality-index/blob/master/July_13_CNNs.ipynb\" target=\"_parent\"><img src=\"https://colab.research.google.com/assets/colab-badge.svg\" alt=\"Open In Colab\"/></a>"
      ]
    },
    {
      "cell_type": "markdown",
      "source": [
        "# Neural Network\n",
        "\n",
        "<img src='https://www.linkpicture.com/q/question.jpg' type='image'>"
      ],
      "metadata": {
        "id": "6XbzoUDo2yLz"
      }
    },
    {
      "cell_type": "markdown",
      "source": [
        "# Convolutional Neural Networks (CNNs)"
      ],
      "metadata": {
        "id": "wICsaTlntL0u"
      }
    },
    {
      "cell_type": "markdown",
      "source": [
        "## Convolution\n",
        "Understandably, '*convolution*' plays a vital role in the operation of CNNs, and is, in simple terms, just a mathematical operation.\n",
        "\n",
        "<img src = \"https://raw.githubusercontent.com/giserh/DeepLearningBookFigures-Volume2/master/Chapter21-CNNs/Figure-21-010.png\" width = 50%>\n",
        "\n",
        "![](http://deeplearning.stanford.edu/wiki/images/6/6c/Convolution_schematic.gif)\n"
      ],
      "metadata": {
        "id": "HaF2Z6eHogkY"
      }
    },
    {
      "cell_type": "markdown",
      "source": [
        "## A sample...\n",
        "\n",
        "![](https://miro.medium.com/max/1400/1*vkQ0hXDaQv57sALXAJquxA.jpeg)\n"
      ],
      "metadata": {
        "id": "laozklqVtG80"
      }
    },
    {
      "cell_type": "markdown",
      "source": [
        "## Glossary\n",
        "\n",
        "To understand CNNs, we'll have to get a grasp of the following,\n",
        "* Layers\n",
        "* Kernels/Filters\n",
        "* Padding\n",
        "* Strides\n",
        "* Channels"
      ],
      "metadata": {
        "id": "pjm2JvCTqpnG"
      }
    },
    {
      "cell_type": "markdown",
      "source": [
        "## Channels\n",
        "\n",
        "![](http://xrds.acm.org/blog/wp-content/uploads/2016/06/Figure1.png)"
      ],
      "metadata": {
        "id": "QgpkMsfVyUVb"
      }
    },
    {
      "cell_type": "markdown",
      "source": [
        "## Types of Layers\n",
        "\n",
        "Basically, you can club the layers in two categories,\n",
        "1. Layers with trainable parameters\n",
        "2. Layers with no trainable parameters (To do different transformations)\n",
        "\n",
        "<hr>\n",
        "\n",
        "### Convolution Layer\n",
        "![](https://stanford.edu/~shervine/teaching/cs-230/illustrations/convolution-layer-a.png?1c517e00cb8d709baf32fc3d39ebae67)\n",
        "\n",
        "<hr>\n",
        "\n",
        "### Pooling Layer\n",
        "![](https://stanford.edu/~shervine/teaching/cs-230/illustrations/max-pooling-a.png?711b14799d07f9306864695e2713ae07)\n",
        "![](https://stanford.edu/~shervine/teaching/cs-230/illustrations/average-pooling-a.png?58f9ab6d61248c3ec8d526ef65763d2f)\n",
        "\n",
        "<hr>\n",
        "\n",
        "### Fully Connected Layer\n",
        "\n",
        "![](https://stanford.edu/~shervine/teaching/cs-230/illustrations/fully-connected-ltr.png?32caf9e07c79d652faa292812579d063)\n",
        "\n",
        "<hr>\n",
        "\n",
        "### Dropout Layer\n",
        "\n",
        "![](https://i.imgur.com/a86utxY.gif)\n",
        "\n",
        "<hr>\n",
        "\n",
        "### Batch Normalization Layer\n",
        "\n",
        "![](https://image.slidesharecdn.com/batchnormalization-181218143156/95/batch-normalization-11-638.jpg?cb=1545143985)\n",
        "\n"
      ],
      "metadata": {
        "id": "yjF1jlq6uLM2"
      }
    },
    {
      "cell_type": "markdown",
      "source": [
        "## Padding and Strides\n",
        "\n",
        "### Strides\n",
        "For a convolutional or a pooling operation, the stride SSS denotes the number of pixels by which the window moves after each operation. \n",
        "![](https://stanford.edu/~shervine/teaching/cs-230/illustrations/stride.png?36b5b2e02f7e02c3c4075a9d836c048c)\n",
        "\n",
        "<hr>\n",
        "\n",
        "### Padding\n",
        "Denotes the process of adding zeroes to each side of the boundaries of the input.\n",
        "\n",
        "#### Valid Padding\n",
        "![](https://stanford.edu/~shervine/teaching/cs-230/illustrations/padding-valid-a.png?1f58d78612f6202ce201620919d71609)\n",
        "\n",
        "#### Same Padding\n",
        "![](https://stanford.edu/~shervine/teaching/cs-230/illustrations/padding-same-a.png?8b680283b10a6e131209b74e21a61213)\n"
      ],
      "metadata": {
        "id": "-JaSBWw6xl5t"
      }
    },
    {
      "cell_type": "markdown",
      "source": [
        "## Note regarding padding and strides...\n",
        "\n",
        "![](https://miro.medium.com/max/1300/1*t3nCATApkkYLmP9xOcRd9g.png)\n",
        "\n",
        "![](https://images.deepai.org/django-summernote/2019-05-27/c3f24854-5584-4feb-81d7-3bcc5800a689.png)\n",
        "\n"
      ],
      "metadata": {
        "id": "lDk70DRIzoM-"
      }
    },
    {
      "cell_type": "markdown",
      "source": [
        "## Filter/Kernel\n",
        "\n",
        "A filter of size **F x F** applied to an input containing **C** channels is a **F x F x C** volume that performs convolutions on an input of size **I x I x C** and produces an output feature map (also called activation map) of size **O x O x 1**. \n",
        "\n",
        "For K filters, output is of size **O x O x K**."
      ],
      "metadata": {
        "id": "3SU0F9vtz0jb"
      }
    },
    {
      "cell_type": "markdown",
      "source": [
        "## Calculating the dimensions at each stage\n",
        "\n",
        "![](https://miro.medium.com/max/1400/1*P1p6ubyxUATVoI_fceandQ.png)"
      ],
      "metadata": {
        "id": "WMScwJ5Qv7SV"
      }
    },
    {
      "cell_type": "markdown",
      "source": [
        "# "
      ],
      "metadata": {
        "id": "9PjZREMl3Cah"
      }
    },
    {
      "cell_type": "code",
      "execution_count": null,
      "metadata": {
        "id": "n_Iuy2jGoNZM"
      },
      "outputs": [],
      "source": [
        ""
      ]
    }
  ]
}